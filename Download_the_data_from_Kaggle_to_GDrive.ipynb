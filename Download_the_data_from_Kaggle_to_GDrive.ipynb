{
  "nbformat": 4,
  "nbformat_minor": 0,
  "metadata": {
    "colab": {
      "name": "Download the data from Kaggle to GDrive.ipynb",
      "provenance": [],
      "authorship_tag": "ABX9TyOiSKx2goV2i7l4IvDlhW9W",
      "include_colab_link": true
    },
    "kernelspec": {
      "name": "python3",
      "display_name": "Python 3"
    }
  },
  "cells": [
    {
      "cell_type": "markdown",
      "metadata": {
        "id": "view-in-github",
        "colab_type": "text"
      },
      "source": [
        "<a href=\"https://colab.research.google.com/github/tlysenko/HuBMAP-Hacking-the-Kidney/blob/main/Download_the_data_from_Kaggle_to_GDrive.ipynb\" target=\"_parent\"><img src=\"https://colab.research.google.com/assets/colab-badge.svg\" alt=\"Open In Colab\"/></a>"
      ]
    },
    {
      "cell_type": "markdown",
      "metadata": {
        "id": "XlCq7hXpldtD"
      },
      "source": [
        "##  Download data from Kaggle "
      ]
    },
    {
      "cell_type": "code",
      "metadata": {
        "colab": {
          "base_uri": "https://localhost:8080/"
        },
        "id": "9yFXDdHEG9WX",
        "outputId": "09426ff4-8d75-48a8-de83-02ccfd97a5b6"
      },
      "source": [
        "!python --version"
      ],
      "execution_count": null,
      "outputs": [
        {
          "output_type": "stream",
          "text": [
            "Python 3.6.9\n"
          ],
          "name": "stdout"
        }
      ]
    },
    {
      "cell_type": "code",
      "metadata": {
        "colab": {
          "base_uri": "https://localhost:8080/"
        },
        "id": "f-SEpnjFiU-v",
        "outputId": "c18459c1-83b4-47ca-e7b9-1e40a48041b1"
      },
      "source": [
        "from google.colab import drive\n",
        "drive.mount('/content/gdrive')"
      ],
      "execution_count": null,
      "outputs": [
        {
          "output_type": "stream",
          "text": [
            "Mounted at /content/gdrive\n"
          ],
          "name": "stdout"
        }
      ]
    },
    {
      "cell_type": "code",
      "metadata": {
        "id": "4yeXEqM_iWgc"
      },
      "source": [
        "from google.colab import files\n",
        "files.upload()"
      ],
      "execution_count": null,
      "outputs": []
    },
    {
      "cell_type": "code",
      "metadata": {
        "colab": {
          "base_uri": "https://localhost:8080/"
        },
        "id": "hJy1IowKiqxy",
        "outputId": "8197bd59-1290-42bc-8133-f73d4ae33297"
      },
      "source": [
        "!pip install -q kaggle\n",
        "!mkdir -p ~/.kaggle\n",
        "!cp kaggle.json ~/.kaggle/\n",
        "!ls ~/.kaggle\n",
        "!chmod 600 /root/.kaggle/kaggle.json  # set permission"
      ],
      "execution_count": null,
      "outputs": [
        {
          "output_type": "stream",
          "text": [
            "kaggle.json\n"
          ],
          "name": "stdout"
        }
      ]
    },
    {
      "cell_type": "code",
      "metadata": {
        "id": "m2LTui3RHXEo",
        "colab": {
          "base_uri": "https://localhost:8080/"
        },
        "outputId": "9f93f09f-4335-427b-8e8d-b34da28c1dc8"
      },
      "source": [
        "!pip install --upgrade kaggle"
      ],
      "execution_count": null,
      "outputs": [
        {
          "output_type": "stream",
          "text": [
            "Requirement already up-to-date: kaggle in /usr/local/lib/python3.6/dist-packages (1.5.9)\n",
            "Requirement already satisfied, skipping upgrade: requests in /usr/local/lib/python3.6/dist-packages (from kaggle) (2.23.0)\n",
            "Requirement already satisfied, skipping upgrade: six>=1.10 in /usr/local/lib/python3.6/dist-packages (from kaggle) (1.15.0)\n",
            "Requirement already satisfied, skipping upgrade: python-dateutil in /usr/local/lib/python3.6/dist-packages (from kaggle) (2.8.1)\n",
            "Requirement already satisfied, skipping upgrade: tqdm in /usr/local/lib/python3.6/dist-packages (from kaggle) (4.41.1)\n",
            "Requirement already satisfied, skipping upgrade: python-slugify in /usr/local/lib/python3.6/dist-packages (from kaggle) (4.0.1)\n",
            "Requirement already satisfied, skipping upgrade: slugify in /usr/local/lib/python3.6/dist-packages (from kaggle) (0.0.1)\n",
            "Requirement already satisfied, skipping upgrade: certifi in /usr/local/lib/python3.6/dist-packages (from kaggle) (2020.11.8)\n",
            "Requirement already satisfied, skipping upgrade: urllib3 in /usr/local/lib/python3.6/dist-packages (from kaggle) (1.24.3)\n",
            "Requirement already satisfied, skipping upgrade: chardet<4,>=3.0.2 in /usr/local/lib/python3.6/dist-packages (from requests->kaggle) (3.0.4)\n",
            "Requirement already satisfied, skipping upgrade: idna<3,>=2.5 in /usr/local/lib/python3.6/dist-packages (from requests->kaggle) (2.10)\n",
            "Requirement already satisfied, skipping upgrade: text-unidecode>=1.3 in /usr/local/lib/python3.6/dist-packages (from python-slugify->kaggle) (1.3)\n"
          ],
          "name": "stdout"
        }
      ]
    },
    {
      "cell_type": "code",
      "metadata": {
        "colab": {
          "base_uri": "https://localhost:8080/"
        },
        "id": "JFToAq7jHjD8",
        "outputId": "871387b3-742d-4271-af6b-0d4ef4a313d9"
      },
      "source": [
        "!kaggle --version"
      ],
      "execution_count": null,
      "outputs": [
        {
          "output_type": "stream",
          "text": [
            "Kaggle API 1.5.4\n"
          ],
          "name": "stdout"
        }
      ]
    },
    {
      "cell_type": "code",
      "metadata": {
        "id": "wTZUBNofmDqa"
      },
      "source": [
        "import os\n",
        "os.chdir('/content/gdrive/MyDrive/Colab Notebooks/HuBMAP: Hacking the Kidney/')  #change dir"
      ],
      "execution_count": null,
      "outputs": []
    },
    {
      "cell_type": "code",
      "metadata": {
        "id": "HAlihnqRmK-z"
      },
      "source": [
        "mkdir ./data"
      ],
      "execution_count": null,
      "outputs": []
    },
    {
      "cell_type": "code",
      "metadata": {
        "id": "Uih7RNgb4CaE"
      },
      "source": [
        "os.chdir('/content/gdrive/MyDrive/Colab Notebooks/HuBMAP: Hacking the Kidney/data')  #change dir"
      ],
      "execution_count": null,
      "outputs": []
    },
    {
      "cell_type": "code",
      "metadata": {
        "id": "7fhOPdBWi0Iw",
        "colab": {
          "base_uri": "https://localhost:8080/"
        },
        "outputId": "f808cd9a-1f22-46ac-f511-2393d800ad4e"
      },
      "source": [
        "!kaggle competitions download -c hubmap-kidney-segmentation"
      ],
      "execution_count": null,
      "outputs": [
        {
          "output_type": "stream",
          "text": [
            "Warning: Looks like you're using an outdated API Version, please consider updating (server 1.5.9 / client 1.5.4)\n",
            "Downloading c68fe75ea.tiff.zip to /content/gdrive/My Drive/Colab Notebooks/HuBMAP: Hacking the Kidney/data\n",
            "100% 2.30G/2.30G [00:25<00:00, 98.8MB/s]\n",
            "100% 2.30G/2.30G [00:25<00:00, 96.4MB/s]\n",
            "Downloading 26dc41664.tiff.zip to /content/gdrive/My Drive/Colab Notebooks/HuBMAP: Hacking the Kidney/data\n",
            " 99% 1.91G/1.92G [00:35<00:00, 76.3MB/s]\n",
            "100% 1.92G/1.92G [00:35<00:00, 57.8MB/s]\n",
            "Downloading b2dc8411c.tiff.zip to /content/gdrive/My Drive/Colab Notebooks/HuBMAP: Hacking the Kidney/data\n",
            " 98% 618M/628M [00:07<00:00, 105MB/s]\n",
            "100% 628M/628M [00:07<00:00, 91.8MB/s]\n",
            "Downloading afa5e8098.tiff.zip to /content/gdrive/My Drive/Colab Notebooks/HuBMAP: Hacking the Kidney/data\n",
            "100% 1.56G/1.57G [00:36<00:00, 114MB/s]\n",
            "100% 1.57G/1.57G [00:36<00:00, 46.4MB/s]\n",
            "Downloading c68fe75ea-anatomical-structure.json to /content/gdrive/My Drive/Colab Notebooks/HuBMAP: Hacking the Kidney/data\n",
            "  0% 0.00/3.16k [00:00<?, ?B/s]\n",
            "100% 3.16k/3.16k [00:00<00:00, 446kB/s]\n",
            "Downloading b9a3865fc-anatomical-structure.json to /content/gdrive/My Drive/Colab Notebooks/HuBMAP: Hacking the Kidney/data\n",
            "  0% 0.00/2.78k [00:00<?, ?B/s]\n",
            "100% 2.78k/2.78k [00:00<00:00, 390kB/s]\n",
            "Downloading 26dc41664-anatomical-structure.json to /content/gdrive/My Drive/Colab Notebooks/HuBMAP: Hacking the Kidney/data\n",
            "  0% 0.00/3.74k [00:00<?, ?B/s]\n",
            "100% 3.74k/3.74k [00:00<00:00, 524kB/s]\n",
            "Downloading afa5e8098-anatomical-structure.json to /content/gdrive/My Drive/Colab Notebooks/HuBMAP: Hacking the Kidney/data\n",
            "  0% 0.00/4.30k [00:00<?, ?B/s]\n",
            "100% 4.30k/4.30k [00:00<00:00, 592kB/s]\n",
            "Downloading b2dc8411c-anatomical-structure.json to /content/gdrive/My Drive/Colab Notebooks/HuBMAP: Hacking the Kidney/data\n",
            "  0% 0.00/3.80k [00:00<?, ?B/s]\n",
            "100% 3.80k/3.80k [00:00<00:00, 541kB/s]\n",
            "Downloading b9a3865fc.tiff.zip to /content/gdrive/My Drive/Colab Notebooks/HuBMAP: Hacking the Kidney/data\n",
            "100% 2.27G/2.27G [00:27<00:00, 58.6MB/s]\n",
            "100% 2.27G/2.27G [00:27<00:00, 87.0MB/s]\n",
            "Downloading 54f2eec69.tiff.zip to /content/gdrive/My Drive/Colab Notebooks/HuBMAP: Hacking the Kidney/data\n",
            "100% 775M/777M [00:13<00:00, 38.3MB/s]\n",
            "100% 777M/777M [00:14<00:00, 57.9MB/s]\n",
            "Downloading 54f2eec69-anatomical-structure.json to /content/gdrive/My Drive/Colab Notebooks/HuBMAP: Hacking the Kidney/data\n",
            "100% 1.85k/1.85k [00:00<00:00, 5.13kB/s]\n",
            "\n",
            "Downloading 1e2425f28.tiff.zip to /content/gdrive/My Drive/Colab Notebooks/HuBMAP: Hacking the Kidney/data\n",
            "100% 1.39G/1.39G [00:34<00:00, 140MB/s]\n",
            "100% 1.39G/1.39G [00:34<00:00, 42.7MB/s]\n",
            "Downloading aaa6a05cc.tiff.zip to /content/gdrive/My Drive/Colab Notebooks/HuBMAP: Hacking the Kidney/data\n",
            " 99% 394M/396M [00:03<00:00, 139MB/s]\n",
            "100% 396M/396M [00:03<00:00, 127MB/s]\n",
            "Downloading 095bf7a1f-anatomical-structure.json to /content/gdrive/My Drive/Colab Notebooks/HuBMAP: Hacking the Kidney/data\n",
            "  0% 0.00/944 [00:00<?, ?B/s]\n",
            "100% 944/944 [00:00<00:00, 131kB/s]\n",
            "Downloading 0486052bb.json to /content/gdrive/My Drive/Colab Notebooks/HuBMAP: Hacking the Kidney/data\n",
            "  0% 0.00/106k [00:00<?, ?B/s]\n",
            "100% 106k/106k [00:00<00:00, 14.8MB/s]\n",
            "Downloading 2f6ecfcdf.tiff.zip to /content/gdrive/My Drive/Colab Notebooks/HuBMAP: Hacking the Kidney/data\n",
            "100% 1.02G/1.02G [00:19<00:00, 96.0MB/s]\n",
            "100% 1.02G/1.02G [00:19<00:00, 55.9MB/s]\n",
            "Downloading aaa6a05cc-anatomical-structure.json to /content/gdrive/My Drive/Colab Notebooks/HuBMAP: Hacking the Kidney/data\n",
            "  0% 0.00/3.23k [00:00<?, ?B/s]\n",
            "100% 3.23k/3.23k [00:00<00:00, 444kB/s]\n",
            "Downloading 1e2425f28-anatomical-structure.json to /content/gdrive/My Drive/Colab Notebooks/HuBMAP: Hacking the Kidney/data\n",
            "  0% 0.00/2.77k [00:00<?, ?B/s]\n",
            "100% 2.77k/2.77k [00:00<00:00, 44.1kB/s]\n",
            "Downloading 095bf7a1f.tiff.zip to /content/gdrive/My Drive/Colab Notebooks/HuBMAP: Hacking the Kidney/data\n",
            "100% 1.91G/1.91G [00:23<00:00, 51.7MB/s]\n",
            "100% 1.91G/1.91G [00:23<00:00, 87.7MB/s]\n",
            "Downloading 0486052bb.tiff.zip to /content/gdrive/My Drive/Colab Notebooks/HuBMAP: Hacking the Kidney/data\n",
            "100% 1.17G/1.17G [00:21<00:00, 78.0MB/s]\n",
            "100% 1.17G/1.17G [00:21<00:00, 59.4MB/s]\n",
            "Downloading 095bf7a1f.json to /content/gdrive/My Drive/Colab Notebooks/HuBMAP: Hacking the Kidney/data\n",
            "  0% 0.00/408k [00:00<?, ?B/s]\n",
            "100% 408k/408k [00:00<00:00, 27.4MB/s]\n",
            "Downloading cb2d976f4.json to /content/gdrive/My Drive/Colab Notebooks/HuBMAP: Hacking the Kidney/data\n",
            "  0% 0.00/280k [00:00<?, ?B/s]\n",
            "100% 280k/280k [00:00<00:00, 18.8MB/s]\n",
            "Downloading 2f6ecfcdf-anatomical-structure.json to /content/gdrive/My Drive/Colab Notebooks/HuBMAP: Hacking the Kidney/data\n",
            "  0% 0.00/2.88k [00:00<?, ?B/s]\n",
            "100% 2.88k/2.88k [00:00<00:00, 93.3kB/s]\n",
            "Downloading 2f6ecfcdf.json to /content/gdrive/My Drive/Colab Notebooks/HuBMAP: Hacking the Kidney/data\n",
            "  0% 0.00/146k [00:00<?, ?B/s]\n",
            "100% 146k/146k [00:00<00:00, 19.9MB/s]\n",
            "Downloading aaa6a05cc.json to /content/gdrive/My Drive/Colab Notebooks/HuBMAP: Hacking the Kidney/data\n",
            "100% 76.4k/76.4k [00:01<00:00, 56.5kB/s]\n",
            "\n",
            "Downloading 54f2eec69.json to /content/gdrive/My Drive/Colab Notebooks/HuBMAP: Hacking the Kidney/data\n",
            "  0% 0.00/172k [00:00<?, ?B/s]\n",
            "100% 172k/172k [00:00<00:00, 11.4MB/s]\n",
            "Downloading 0486052bb-anatomical-structure.json to /content/gdrive/My Drive/Colab Notebooks/HuBMAP: Hacking the Kidney/data\n",
            "  0% 0.00/3.63k [00:00<?, ?B/s]\n",
            "100% 3.63k/3.63k [00:00<00:00, 504kB/s]\n",
            "Downloading cb2d976f4-anatomical-structure.json to /content/gdrive/My Drive/Colab Notebooks/HuBMAP: Hacking the Kidney/data\n",
            "  0% 0.00/4.62k [00:00<?, ?B/s]\n",
            "100% 4.62k/4.62k [00:00<00:00, 637kB/s]\n",
            "Downloading 1e2425f28.json to /content/gdrive/My Drive/Colab Notebooks/HuBMAP: Hacking the Kidney/data\n",
            "  0% 0.00/201k [00:00<?, ?B/s]\n",
            "100% 201k/201k [00:00<00:00, 12.4MB/s]\n",
            "Downloading sample_submission.csv to /content/gdrive/My Drive/Colab Notebooks/HuBMAP: Hacking the Kidney/data\n",
            "  0% 0.00/68.0 [00:00<?, ?B/s]\n",
            "100% 68.0/68.0 [00:00<00:00, 1.07kB/s]\n",
            "Downloading train.csv.zip to /content/gdrive/My Drive/Colab Notebooks/HuBMAP: Hacking the Kidney/data\n",
            "  0% 0.00/2.80M [00:00<?, ?B/s]\n",
            "100% 2.80M/2.80M [00:00<00:00, 45.8MB/s]\n",
            "Downloading HuBMAP-20-dataset_information.csv to /content/gdrive/My Drive/Colab Notebooks/HuBMAP: Hacking the Kidney/data\n",
            "  0% 0.00/2.19k [00:00<?, ?B/s]\n",
            "100% 2.19k/2.19k [00:00<00:00, 273kB/s]\n"
          ],
          "name": "stdout"
        }
      ]
    },
    {
      "cell_type": "code",
      "metadata": {
        "colab": {
          "base_uri": "https://localhost:8080/"
        },
        "id": "mGahPymJqSmT",
        "outputId": "90af63c9-ecf9-42f8-faa8-b64a9072a684"
      },
      "source": [
        "!ls | wc -l"
      ],
      "execution_count": null,
      "outputs": [
        {
          "output_type": "stream",
          "text": [
            "33\n"
          ],
          "name": "stdout"
        }
      ]
    },
    {
      "cell_type": "code",
      "metadata": {
        "colab": {
          "base_uri": "https://localhost:8080/"
        },
        "id": "IFhmYBoOqY4P",
        "outputId": "6f7299ff-ee71-461e-b4c2-7548d10be519"
      },
      "source": [
        "!ls"
      ],
      "execution_count": null,
      "outputs": [
        {
          "output_type": "stream",
          "text": [
            "0486052bb-anatomical-structure.json  aaa6a05cc.json\n",
            "0486052bb.json\t\t\t     aaa6a05cc.tiff.zip\n",
            "0486052bb.tiff.zip\t\t     afa5e8098-anatomical-structure.json\n",
            "095bf7a1f-anatomical-structure.json  afa5e8098.tiff.zip\n",
            "095bf7a1f.json\t\t\t     b2dc8411c-anatomical-structure.json\n",
            "095bf7a1f.tiff.zip\t\t     b2dc8411c.tiff.zip\n",
            "1e2425f28-anatomical-structure.json  b9a3865fc-anatomical-structure.json\n",
            "1e2425f28.json\t\t\t     b9a3865fc.tiff.zip\n",
            "1e2425f28.tiff.zip\t\t     c68fe75ea-anatomical-structure.json\n",
            "26dc41664-anatomical-structure.json  c68fe75ea.tiff.zip\n",
            "26dc41664.tiff.zip\t\t     cb2d976f4-anatomical-structure.json\n",
            "2f6ecfcdf-anatomical-structure.json  cb2d976f4.json\n",
            "2f6ecfcdf.json\t\t\t     HuBMAP-20-dataset_information.csv\n",
            "2f6ecfcdf.tiff.zip\t\t     sample_submission.csv\n",
            "54f2eec69-anatomical-structure.json  test\n",
            "54f2eec69.json\t\t\t     train\n",
            "54f2eec69.tiff.zip\t\t     train.csv.zip\n",
            "aaa6a05cc-anatomical-structure.json\n"
          ],
          "name": "stdout"
        }
      ]
    },
    {
      "cell_type": "code",
      "metadata": {
        "id": "leflYXhMyCOr"
      },
      "source": [
        "!mkdir train\n",
        "!mkdir test"
      ],
      "execution_count": null,
      "outputs": []
    },
    {
      "cell_type": "markdown",
      "metadata": {
        "id": "OFcrVFU8-UH4"
      },
      "source": [
        "## Unzip the files"
      ]
    },
    {
      "cell_type": "code",
      "metadata": {
        "colab": {
          "base_uri": "https://localhost:8080/"
        },
        "id": "fMgwjyOE-Sab",
        "outputId": "a338deb1-f115-4b0f-9caf-f8fbb038342b"
      },
      "source": [
        "!unzip \"*.zip\" "
      ],
      "execution_count": null,
      "outputs": [
        {
          "output_type": "stream",
          "text": [
            "Archive:  c68fe75ea.tiff.zip\n",
            "  inflating: c68fe75ea.tiff          \n",
            "\n",
            "Archive:  b9a3865fc.tiff.zip\n",
            "  inflating: b9a3865fc.tiff          \n",
            "\n",
            "Archive:  b2dc8411c.tiff.zip\n",
            "  inflating: b2dc8411c.tiff          \n",
            "\n",
            "Archive:  afa5e8098.tiff.zip\n",
            "  inflating: afa5e8098.tiff          \n",
            "\n",
            "Archive:  26dc41664.tiff.zip\n",
            "  inflating: 26dc41664.tiff          \n",
            "\n",
            "Archive:  1e2425f28.tiff.zip\n",
            "  inflating: 1e2425f28.tiff          \n",
            "\n",
            "Archive:  aaa6a05cc.tiff.zip\n",
            "  inflating: aaa6a05cc.tiff          \n",
            "\n",
            "Archive:  0486052bb.tiff.zip\n",
            "  inflating: 0486052bb.tiff          \n",
            "\n",
            "Archive:  54f2eec69.tiff.zip\n",
            "  inflating: 54f2eec69.tiff          \n",
            "\n",
            "Archive:  095bf7a1f.tiff.zip\n",
            "  inflating: 095bf7a1f.tiff          \n",
            "\n",
            "Archive:  2f6ecfcdf.tiff.zip\n",
            "  inflating: 2f6ecfcdf.tiff          \n",
            "\n",
            "Archive:  train.csv.zip\n",
            "  inflating: train.csv               \n",
            "\n",
            "12 archives were successfully processed.\n"
          ],
          "name": "stdout"
        }
      ]
    },
    {
      "cell_type": "code",
      "metadata": {
        "id": "y4wc96F-QX-k"
      },
      "source": [
        "!rm *.zip"
      ],
      "execution_count": null,
      "outputs": []
    },
    {
      "cell_type": "markdown",
      "metadata": {
        "id": "AbKp3X2Qw3Z2"
      },
      "source": [
        "## Move files to Test folder"
      ]
    },
    {
      "cell_type": "code",
      "metadata": {
        "id": "AbXWD77qrV1A"
      },
      "source": [
        "sample_df = pd.read_csv('sample_submission.csv')\n",
        "test_i = sample_df.id"
      ],
      "execution_count": null,
      "outputs": []
    },
    {
      "cell_type": "code",
      "metadata": {
        "id": "xwjwHetvp7B1"
      },
      "source": [
        "test_ids = ['26dc41664', 'afa5e8098', 'b2dc8411c','b9a3865fc', 'c68fe75ea']"
      ],
      "execution_count": null,
      "outputs": []
    },
    {
      "cell_type": "code",
      "metadata": {
        "id": "6GQBytMO4mLM"
      },
      "source": [
        "for ff in test_ids:\n",
        "  !mv {ff}* ./test/"
      ],
      "execution_count": null,
      "outputs": []
    },
    {
      "cell_type": "markdown",
      "metadata": {
        "id": "QDtji3lZxvYU"
      },
      "source": [
        "## Move files to Train folder"
      ]
    },
    {
      "cell_type": "code",
      "metadata": {
        "id": "tOl_bSxEwtGg"
      },
      "source": [
        "!mv *json ./train/\n",
        "!mv *tiff* ./train/"
      ],
      "execution_count": null,
      "outputs": []
    },
    {
      "cell_type": "code",
      "metadata": {
        "colab": {
          "base_uri": "https://localhost:8080/"
        },
        "id": "APJel9kZURD0",
        "outputId": "13d35f3b-d297-497d-9249-44946e99b09b"
      },
      "source": [
        "!pwd"
      ],
      "execution_count": null,
      "outputs": [
        {
          "output_type": "stream",
          "text": [
            "/content/gdrive/My Drive/Colab Notebooks/HuBMAP: Hacking the Kidney/data\n"
          ],
          "name": "stdout"
        }
      ]
    },
    {
      "cell_type": "markdown",
      "metadata": {
        "id": "bsHJnPxrV8dW"
      },
      "source": [
        "### Count files"
      ]
    },
    {
      "cell_type": "code",
      "metadata": {
        "colab": {
          "base_uri": "https://localhost:8080/"
        },
        "id": "qTh8kSrsWAEj",
        "outputId": "131e041f-225e-4a6a-8a67-6a9aefdd25fb"
      },
      "source": [
        "os.chdir('/content/gdrive/MyDrive/Colab Notebooks/HuBMAP: Hacking the Kidney/data')  #change dir\n",
        "!ls | wc -l"
      ],
      "execution_count": null,
      "outputs": [
        {
          "output_type": "stream",
          "text": [
            "5\n"
          ],
          "name": "stdout"
        }
      ]
    },
    {
      "cell_type": "code",
      "metadata": {
        "colab": {
          "base_uri": "https://localhost:8080/"
        },
        "id": "CjWQb5JxWDtC",
        "outputId": "2cd72ee1-b810-42b0-95d1-a68fce1e3e29"
      },
      "source": [
        "os.chdir('/content/gdrive/MyDrive/Colab Notebooks/HuBMAP: Hacking the Kidney/data/test')  #change dir\n",
        "!ls | wc -l"
      ],
      "execution_count": null,
      "outputs": [
        {
          "output_type": "stream",
          "text": [
            "10\n"
          ],
          "name": "stdout"
        }
      ]
    },
    {
      "cell_type": "code",
      "metadata": {
        "colab": {
          "base_uri": "https://localhost:8080/"
        },
        "id": "FraRK0Z0WEDI",
        "outputId": "4ca52760-bc9e-459f-e18e-0e37ab6739be"
      },
      "source": [
        "os.chdir('/content/gdrive/MyDrive/Colab Notebooks/HuBMAP: Hacking the Kidney/data/train')  #change dir\n",
        "!ls | wc -l"
      ],
      "execution_count": null,
      "outputs": [
        {
          "output_type": "stream",
          "text": [
            "24\n"
          ],
          "name": "stdout"
        }
      ]
    },
    {
      "cell_type": "markdown",
      "metadata": {
        "id": "CqJlV0iIytiX"
      },
      "source": [
        "Useful links:\n",
        "\n",
        "https://colab.research.google.com/github/jakevdp/PythonDataScienceHandbook/blob/master/notebooks/01.05-IPython-And-Shell-Commands.ipynb"
      ]
    }
  ]
}